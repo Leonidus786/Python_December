{
 "cells": [
  {
   "cell_type": "markdown",
   "id": "80463acf-0c97-40b5-95ba-105bcdfa945b",
   "metadata": {},
   "source": [
    "# Numpy\n",
    "## Numerical Python\n",
    "\n",
    "## NumPy was created in 2005 by Travis Oliphant."
   ]
  },
  {
   "cell_type": "markdown",
   "id": "e89e288a-3603-4b4d-883e-69d3a50d85b6",
   "metadata": {},
   "source": [
    "## Arrays --> Array is a linear data structure where all elements are arranged sequentially. It is a collection of elements of same data type stored at contiguous memory locations.\r\n"
   ]
  },
  {
   "cell_type": "code",
   "execution_count": 3,
   "id": "39f32774-ff28-4e96-a1f7-b1b80773f7af",
   "metadata": {},
   "outputs": [],
   "source": [
    "import numpy as np"
   ]
  },
  {
   "cell_type": "code",
   "execution_count": 4,
   "id": "602fae0b-21c8-4293-aaf8-5a90ef71161d",
   "metadata": {},
   "outputs": [
    {
     "name": "stdout",
     "output_type": "stream",
     "text": [
      "[1 2 3 4 5]\n"
     ]
    }
   ],
   "source": [
    "arr = np.array([1, 2, 3, 4, 5])\n",
    "\n",
    "print(arr)"
   ]
  }
 ],
 "metadata": {
  "kernelspec": {
   "display_name": "Python 3 (ipykernel)",
   "language": "python",
   "name": "python3"
  },
  "language_info": {
   "codemirror_mode": {
    "name": "ipython",
    "version": 3
   },
   "file_extension": ".py",
   "mimetype": "text/x-python",
   "name": "python",
   "nbconvert_exporter": "python",
   "pygments_lexer": "ipython3",
   "version": "3.11.7"
  }
 },
 "nbformat": 4,
 "nbformat_minor": 5
}
