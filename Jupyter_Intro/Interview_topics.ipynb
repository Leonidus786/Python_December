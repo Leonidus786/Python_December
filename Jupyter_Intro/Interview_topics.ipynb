{
  "cells": [
    {
      "cell_type": "code",
      "execution_count": null,
      "metadata": {
        "id": "wU680_226ekI"
      },
      "outputs": [],
      "source": []
    },
    {
      "cell_type": "markdown",
      "metadata": {
        "id": "mcWmAQS46uBr"
      },
      "source": [
        "## Shortcuts for jupyter\n",
        "-- Select the cell from left\n",
        "1. A -- to add a cell before the selected one\n",
        "2. B -- to add a cell below the selected one\n",
        "3. D + D -- to delete a cell specially in jupyter."
      ]
    },
    {
      "cell_type": "code",
      "execution_count": 1,
      "metadata": {
        "colab": {
          "base_uri": "https://localhost:8080/"
        },
        "id": "blDFrK0VE8MK",
        "outputId": "c62d3fe3-49ef-47e9-967c-c4a7cd5f6bb8"
      },
      "outputs": [
        {
          "name": "stdout",
          "output_type": "stream",
          "text": [
            "amit\n"
          ]
        }
      ],
      "source": [
        "print(\"amit\")"
      ]
    },
    {
      "cell_type": "markdown",
      "metadata": {
        "id": "rrxafagjSdu4"
      },
      "source": [
        "# 1. Given a list of numbers, write a python function to find the second highest number."
      ]
    },
    {
      "cell_type": "code",
      "execution_count": 3,
      "metadata": {
        "colab": {
          "base_uri": "https://localhost:8080/"
        },
        "id": "SjJs2AL9Sf-N",
        "outputId": "05eaab76-da87-4c2a-838c-8d3b398cb3f7"
      },
      "outputs": [
        {
          "name": "stdout",
          "output_type": "stream",
          "text": [
            "5\n"
          ]
        }
      ],
      "source": [
        "#We can first convert the list into a set to remove duplicates.\n",
        "#Then, we'll convert it back to a list and sort it.\n",
        "#We can retrieve the second last element to get the second highest number.\n",
        "\n",
        "def second_highest(numbers):\n",
        "    numbers = list(set(numbers))\n",
        "    numbers.sort()\n",
        "    return numbers[-2]\n",
        "\n",
        "numbers = [1, 3, 2, 4, 4, 5, 6, 6]\n",
        "print(second_highest(numbers))  # Output: 5\n"
      ]
    },
    {
      "cell_type": "markdown",
      "metadata": {
        "id": "ipY-E0fHS9kJ"
      },
      "source": [
        "# 2. Write a function to compute the factorial of a number using recursion."
      ]
    },
    {
      "cell_type": "code",
      "execution_count": null,
      "metadata": {
        "colab": {
          "base_uri": "https://localhost:8080/"
        },
        "id": "EitpBF8OS7K-",
        "outputId": "e73156b5-806c-4902-9f6c-56fb5104b25c"
      },
      "outputs": [
        {
          "name": "stdout",
          "output_type": "stream",
          "text": [
            "120\n"
          ]
        }
      ],
      "source": [
        "def factorial(n):\n",
        "    if n == 0:\n",
        "        return 1\n",
        "    return n * factorial(n-1)\n",
        "\n",
        "number = 5\n",
        "print(factorial(number))  # Output: 120\n"
      ]
    },
    {
      "cell_type": "markdown",
      "metadata": {
        "id": "_8tNxjPMTwZ0"
      },
      "source": [
        "# 3. You are given a list of strings. Write a function to filter out all strings that are palindromes."
      ]
    },
    {
      "cell_type": "code",
      "execution_count": null,
      "metadata": {
        "colab": {
          "base_uri": "https://localhost:8080/"
        },
        "id": "ICjITrTrTnYe",
        "outputId": "61b915d6-05cd-490e-f308-1e19b6950309"
      },
      "outputs": [
        {
          "name": "stdout",
          "output_type": "stream",
          "text": [
            "['radar', 'level']\n"
          ]
        }
      ],
      "source": [
        "#A palindrome is a word, phrase, number, or other sequences of characters that reads the same forward and backward\n",
        " #(ignoring spaces, punctuation, and capitalization).\n",
        "\n",
        "\n",
        "def is_palindrome(s):\n",
        "    s = ''.join(e for e in s if e.isalnum())  # Remove punctuation and spaces\n",
        "    return s.lower() == s.lower()[::-1]\n",
        "\n",
        "def filter_palindromes(strings):\n",
        "    return [s for s in strings if is_palindrome(s)]\n",
        "\n",
        "words = [\"radar\", \"python\", \"level\", \"world\"]\n",
        "print(filter_palindromes(words))  # Output: ['radar', 'level']\n"
      ]
    },
    {
      "cell_type": "markdown",
      "metadata": {
        "id": "ep44EAS0VOn-"
      },
      "source": [
        "# 4. Write a function to flatten a nested list."
      ]
    },
    {
      "cell_type": "code",
      "execution_count": null,
      "metadata": {
        "colab": {
          "base_uri": "https://localhost:8080/"
        },
        "id": "X8LwWzgaVKZq",
        "outputId": "616b1300-ba18-44f3-edc5-2f56bad86c69"
      },
      "outputs": [
        {
          "name": "stdout",
          "output_type": "stream",
          "text": [
            "[1, 2, 3, 4, 5, 6]\n"
          ]
        }
      ],
      "source": [
        "def flatten(lst):\n",
        "    result = []\n",
        "    for i in lst:\n",
        "        if isinstance(i, list):\n",
        "            result.extend(flatten(i))\n",
        "        else:\n",
        "            result.append(i)\n",
        "    return result\n",
        "\n",
        "nested_list = [1, [2, 3, [4, 5]], 6]\n",
        "print(flatten(nested_list))  # Output: [1, 2, 3, 4, 5, 6]\n"
      ]
    },
    {
      "cell_type": "markdown",
      "metadata": {
        "id": "Juigvw9rWwkE"
      },
      "source": [
        "# 5. Given two lists, write a function that returns the elements that are common to both lists."
      ]
    },
    {
      "cell_type": "code",
      "execution_count": null,
      "metadata": {
        "colab": {
          "base_uri": "https://localhost:8080/"
        },
        "id": "_vxheTWBWftU",
        "outputId": "a49807e3-4155-44a9-ce45-818d99b529c9"
      },
      "outputs": [
        {
          "name": "stdout",
          "output_type": "stream",
          "text": [
            "[4, 5]\n"
          ]
        }
      ],
      "source": [
        "def common_elements(list1, list2):\n",
        "  return list(set(list1) & set(list2))\n",
        "\n",
        "list1 = [1, 2, 3, 4, 5]\n",
        "list2 = [4, 5, 6, 7, 8]\n",
        "\n",
        "\n",
        "\n",
        "print(common_elements(list1, list2))  # Output: [4, 5]\n"
      ]
    },
    {
      "cell_type": "markdown",
      "metadata": {
        "id": "iqeukZa0i0W9"
      },
      "source": [
        "# 6. Write a function that returns the number of words in a string."
      ]
    },
    {
      "cell_type": "code",
      "execution_count": null,
      "metadata": {
        "colab": {
          "base_uri": "https://localhost:8080/"
        },
        "id": "gtdGqzsgXNF4",
        "outputId": "7ea54089-35af-49b0-e1c1-32a9929a7bfa"
      },
      "outputs": [
        {
          "name": "stdout",
          "output_type": "stream",
          "text": [
            "4\n"
          ]
        }
      ],
      "source": [
        "def word_count(s):\n",
        "    return len(s.split())\n",
        "\n",
        "sentence = \"The quick brown fox\"\n",
        "print(word_count(sentence))  # Output: 4"
      ]
    },
    {
      "cell_type": "markdown",
      "metadata": {
        "id": "sTtK-pncjSta"
      },
      "source": [
        "# 7. Write a Python function to merge two dictionaries. If both dictionaries have the same key, prefer the second dictionary's value."
      ]
    },
    {
      "cell_type": "code",
      "execution_count": null,
      "metadata": {
        "colab": {
          "base_uri": "https://localhost:8080/"
        },
        "id": "9uAG2prpjAlB",
        "outputId": "06778924-c166-4bd4-f82b-83f9d1bdb180"
      },
      "outputs": [
        {
          "name": "stdout",
          "output_type": "stream",
          "text": [
            "{'a': 1, 'b': 3, 'c': 4}\n"
          ]
        }
      ],
      "source": [
        "def merge_dicts(dict1, dict2):\n",
        "    merged = dict1.copy()\n",
        "    merged.update(dict2)\n",
        "    return merged\n",
        "\n",
        "dict1 = {'a': 1, 'b': 2}\n",
        "dict2 = {'b': 3, 'c': 4}\n",
        "print(merge_dicts(dict1, dict2))  # Output: {'a': 1, 'b': 3, 'c': 4}\n"
      ]
    },
    {
      "cell_type": "markdown",
      "metadata": {
        "id": "zpFaBkJXjo6J"
      },
      "source": [
        "# 8. Given a list of numbers, write a function to compute the mean, median, and mode."
      ]
    },
    {
      "cell_type": "code",
      "execution_count": null,
      "metadata": {
        "colab": {
          "base_uri": "https://localhost:8080/"
        },
        "id": "GEI9_BHgjZt_",
        "outputId": "763275b3-7b29-47a6-9683-00b2f9bf08f5"
      },
      "outputs": [
        {
          "name": "stdout",
          "output_type": "stream",
          "text": [
            "{'mean': 3.888888888888889, 'median': 4, 'mode': 5}\n"
          ]
        }
      ],
      "source": [
        "from statistics import mean, median, mode\n",
        "\n",
        "def compute_stats(numbers):\n",
        "    return {\n",
        "        \"mean\": mean(numbers),\n",
        "        \"median\": median(numbers),\n",
        "        \"mode\": mode(numbers)\n",
        "    }\n",
        "\n",
        "numbers = [1, 2, 3, 4, 4, 5, 5, 5, 6]\n",
        "print(compute_stats(numbers))"
      ]
    },
    {
      "cell_type": "markdown",
      "metadata": {
        "id": "sKQ347Zllcbf"
      },
      "source": [
        "# 9. Write a function to compute the Fibonacci series up to n."
      ]
    },
    {
      "cell_type": "code",
      "execution_count": null,
      "metadata": {
        "colab": {
          "base_uri": "https://localhost:8080/"
        },
        "id": "LnYO9180lF5y",
        "outputId": "f688435b-475d-4004-8ffb-98d1177ee567"
      },
      "outputs": [
        {
          "name": "stdout",
          "output_type": "stream",
          "text": [
            "[0, 1, 1, 2, 3, 5, 8, 13, 21, 34]\n"
          ]
        }
      ],
      "source": [
        "#Fibonacci Sequence is a series of numbers in which each number, starting with 0 and 1, is generated by adding\n",
        "#the two preceding numbers. It forms the sequence of 0, 1, 1, 2, 3, 5, 8, 13, 21,…\n",
        "#Each number in the Fibonacci series is the sum of the two numbers before it.\n",
        "def fibonacci(n):\n",
        "    series = [0, 1]\n",
        "    while len(series) < n:\n",
        "        series.append(series[-1] + series[-2])\n",
        "    return series\n",
        "\n",
        "number = 10\n",
        "print(fibonacci(number))  # Output: [0, 1, 1, 2, 3, 5, 8, 13, 21, 34]\n"
      ]
    },
    {
      "cell_type": "markdown",
      "metadata": {
        "id": "5nvN9fPAEOsH"
      },
      "source": [
        "# 10. Write a function that returns the sum of two numbers represented as strings. Your function should not use built-in arithmetic operators or functions."
      ]
    },
    {
      "cell_type": "code",
      "execution_count": null,
      "metadata": {
        "colab": {
          "base_uri": "https://localhost:8080/"
        },
        "id": "ljXnUI81DuoD",
        "outputId": "68c9cdd1-77d9-4229-dc69-dbdf2a1cf2b4"
      },
      "outputs": [
        {
          "name": "stdout",
          "output_type": "stream",
          "text": [
            "912\n"
          ]
        }
      ],
      "source": [
        "def add_strings(num1, num2):\n",
        "    res, carry, i, j = \"\", 0, len(num1) - 1, len(num2) - 1\n",
        "    while i >= 0 or j >= 0 or carry:\n",
        "        n1 = int(num1[i]) if i >= 0 else 0\n",
        "        n2 = int(num2[j]) if j >= 0 else 0\n",
        "        temp_sum = n1 + n2 + carry\n",
        "        res = str(temp_sum % 10) + res\n",
        "        carry = temp_sum // 10\n",
        "        i, j = i - 1, j - 1\n",
        "    return res\n",
        "\n",
        "n1 = \"123\"\n",
        "n2 = \"789\"\n",
        "print(add_strings(n1, n2))  # Output: \"912\""
      ]
    },
    {
      "cell_type": "code",
      "execution_count": null,
      "metadata": {
        "colab": {
          "base_uri": "https://localhost:8080/"
        },
        "id": "PPKLAqqUEsnL",
        "outputId": "4c1e72d3-2e83-4905-dcba-a85892bea585"
      },
      "outputs": [
        {
          "data": {
            "text/plain": [
              "5"
            ]
          },
          "execution_count": 1,
          "metadata": {},
          "output_type": "execute_result"
        }
      ],
      "source": [
        "2 + 3"
      ]
    },
    {
      "cell_type": "code",
      "execution_count": null,
      "metadata": {
        "colab": {
          "base_uri": "https://localhost:8080/"
        },
        "id": "-cbJ2d8WuOwA",
        "outputId": "3175a8a9-cbb5-478c-cafc-12929cc991af"
      },
      "outputs": [
        {
          "data": {
            "text/plain": [
              "-1"
            ]
          },
          "execution_count": 2,
          "metadata": {},
          "output_type": "execute_result"
        }
      ],
      "source": [
        "2-3"
      ]
    },
    {
      "cell_type": "code",
      "execution_count": null,
      "metadata": {
        "id": "Bk5sX3vauT44"
      },
      "outputs": [],
      "source": [
        "y = True"
      ]
    },
    {
      "cell_type": "code",
      "execution_count": null,
      "metadata": {
        "colab": {
          "base_uri": "https://localhost:8080/"
        },
        "id": "5ykRVhzcubIa",
        "outputId": "8efb7684-684b-489e-e044-f7a19131e4e0"
      },
      "outputs": [
        {
          "data": {
            "text/plain": [
              "True"
            ]
          },
          "execution_count": 4,
          "metadata": {},
          "output_type": "execute_result"
        }
      ],
      "source": [
        "y"
      ]
    },
    {
      "cell_type": "code",
      "execution_count": null,
      "metadata": {
        "colab": {
          "base_uri": "https://localhost:8080/"
        },
        "id": "0wK7Rmkoub5i",
        "outputId": "635e535f-1db7-42de-ba70-b01f87a5e291"
      },
      "outputs": [
        {
          "data": {
            "text/plain": [
              "bool"
            ]
          },
          "execution_count": 5,
          "metadata": {},
          "output_type": "execute_result"
        }
      ],
      "source": [
        "type(y)"
      ]
    },
    {
      "cell_type": "code",
      "execution_count": null,
      "metadata": {
        "colab": {
          "base_uri": "https://localhost:8080/"
        },
        "id": "Uc0k4Xw1udyK",
        "outputId": "9b51ae2e-5d75-401a-c863-4f86c18fb0b7"
      },
      "outputs": [
        {
          "data": {
            "text/plain": [
              "float"
            ]
          },
          "execution_count": 7,
          "metadata": {},
          "output_type": "execute_result"
        }
      ],
      "source": [
        "x = 35e3 # == 35 * 10^3\n",
        "y = 12E4 # == 12 * 10^4\n",
        "z = -87.7e-100 # == -87.7 * 10^-100\n",
        "type(z)"
      ]
    },
    {
      "cell_type": "code",
      "execution_count": null,
      "metadata": {
        "id": "-7c4UpAEvAC5"
      },
      "outputs": [],
      "source": []
    }
  ],
  "metadata": {
    "colab": {
      "provenance": []
    },
    "kernelspec": {
      "display_name": "Python 3",
      "name": "python3"
    },
    "language_info": {
      "codemirror_mode": {
        "name": "ipython",
        "version": 3
      },
      "file_extension": ".py",
      "mimetype": "text/x-python",
      "name": "python",
      "nbconvert_exporter": "python",
      "pygments_lexer": "ipython3",
      "version": "3.12.4"
    }
  },
  "nbformat": 4,
  "nbformat_minor": 0
}
